{
 "cells": [
  {
   "cell_type": "markdown",
   "metadata": {},
   "source": [
    "<img src=\"http://cfs22.simplicdn.net/ice9/new_logo.svgz \"/>\n",
    "\n",
    "# Assignment 01: Evaluate the GDP Dataset\n",
    "\n",
    "*The comments/sections provided are your cues to perform the assignment. You don't need to limit yourself to the number of rows/cells provided. You can add additional rows in each section to add more lines of code.*\n",
    "\n",
    "*If at any point in time you need help on solving this assignment, view our demo video to understand the different steps of the code.*\n",
    "\n",
    "**Happy coding!**\n",
    "\n",
    "* * *"
   ]
  },
  {
   "cell_type": "markdown",
   "metadata": {},
   "source": [
    "#### 1: View and add the dataset"
   ]
  },
  {
   "cell_type": "code",
   "execution_count": 7,
   "metadata": {},
   "outputs": [],
   "source": [
    "#Import required library\n",
    "import numpy as np"
   ]
  },
  {
   "cell_type": "code",
   "execution_count": 8,
   "metadata": {},
   "outputs": [],
   "source": [
    "#Manually add the dataset\n",
    "countries = np.array(['Algeria','Angola','Argentina','Australia','Austria','Bahamas','Bangladesh','Belarus',\n",
    "                      'Belgium','Bhutan','Brazil','Bulgaria','Cambodia','Cameroon','Chile','China','Colombia',\n",
    "                      'Cyprus','Denmark','El Salvador','Estonia','Ethiopia','Fiji','Finland','France','Georgia',\n",
    "                      'Ghana','Grenada','Guinea','Haiti','Honduras','Hungary','India','Indonesia','Ireland','Italy',\n",
    "                      'Japan','Kenya', 'South Korea','Liberia','Malaysia','Mexico', 'Morocco','Nepal','New Zealand',\n",
    "                      'Norway','Pakistan', 'Peru','Qatar','Russia','Singapore','South Africa','Spain','Sweden',\n",
    "                      'Switzerland','Thailand', 'United Arab Emirates','United Kingdom','United States','Uruguay',\n",
    "                      'Venezuela','Vietnam','Zimbabwe'])\n",
    "\n",
    "gdp_per_capita = np.array([2255.225482,629.9553062,11601.63022,25306.82494,27266.40335,19466.99052,588.3691778,\n",
    "                           2890.345675,24733.62696,1445.760002,4803.398244,2618.876037,590.4521124,665.7982328,\n",
    "                           7122.938458,2639.54156,3362.4656,15378.16704,30860.12808,2579.115607,6525.541272,\n",
    "                           229.6769525,2242.689259,27570.4852,23016.84778,1334.646773,402.6953275,6047.200797,\n",
    "                           394.1156638,385.5793827,1414.072488,5745.981529,837.7464011,1206.991065,27715.52837,\n",
    "                           18937.24998,39578.07441,478.2194906,16684.21278,279.2204061,5345.213415,6288.25324,\n",
    "                           1908.304416,274.8728621,14646.42094,40034.85063,672.1547506,3359.517402,36152.66676,\n",
    "                           3054.727742,33529.83052,3825.093781,15428.32098,33630.24604,39170.41371,2699.123242,\n",
    "                           21058.43643,28272.40661,37691.02733,9581.05659,5671.912202,757.4009286,347.7456605])"
   ]
  },
  {
   "cell_type": "markdown",
   "metadata": {
    "collapsed": true
   },
   "source": [
    "#### 2: Find and print the name of the country with the highest GDP"
   ]
  },
  {
   "cell_type": "code",
   "execution_count": 11,
   "metadata": {},
   "outputs": [
    {
     "data": {
      "text/plain": [
       "45"
      ]
     },
     "execution_count": 11,
     "metadata": {},
     "output_type": "execute_result"
    }
   ],
   "source": [
    "#Use the argmax() method to find the highest GDP\n",
    "max_gdp_per_capita = gdp_per_capita.argmax()\n",
    "\n",
    "max_gdp_per_capita"
   ]
  },
  {
   "cell_type": "code",
   "execution_count": 12,
   "metadata": {},
   "outputs": [
    {
     "data": {
      "text/plain": [
       "'Norway'"
      ]
     },
     "execution_count": 12,
     "metadata": {},
     "output_type": "execute_result"
    }
   ],
   "source": [
    "#Print the name of the country\n",
    "country_with_max_gdp_per_capita = countries[max_gdp_per_capita]\n",
    "\n",
    "country_with_max_gdp_per_capita"
   ]
  },
  {
   "cell_type": "markdown",
   "metadata": {},
   "source": [
    "#### 3: Find and print the name of the country with the lowest GDP"
   ]
  },
  {
   "cell_type": "code",
   "execution_count": 13,
   "metadata": {},
   "outputs": [
    {
     "data": {
      "text/plain": [
       "21"
      ]
     },
     "execution_count": 13,
     "metadata": {},
     "output_type": "execute_result"
    }
   ],
   "source": [
    "#Use the argmin() method to find the lowest GDP\n",
    "min_gdp_per_capita = gdp_per_capita.argmin()\n",
    "\n",
    "min_gdp_per_capita"
   ]
  },
  {
   "cell_type": "code",
   "execution_count": 14,
   "metadata": {},
   "outputs": [
    {
     "data": {
      "text/plain": [
       "'Ethiopia'"
      ]
     },
     "execution_count": 14,
     "metadata": {},
     "output_type": "execute_result"
    }
   ],
   "source": [
    "#Print the name of the country\n",
    "country_with_min_gdp_per_capita = countries[min_gdp_per_capita]\n",
    "\n",
    "country_with_min_gdp_per_capita"
   ]
  },
  {
   "cell_type": "markdown",
   "metadata": {},
   "source": [
    "#### 4: Print out text ('evaluating country') and input value ('country name') iteratively"
   ]
  },
  {
   "cell_type": "code",
   "execution_count": 15,
   "metadata": {},
   "outputs": [
    {
     "name": "stdout",
     "output_type": "stream",
     "text": [
      "evaluating country Algeria\n",
      "evaluating country Angola\n",
      "evaluating country Argentina\n",
      "evaluating country Australia\n",
      "evaluating country Austria\n",
      "evaluating country Bahamas\n",
      "evaluating country Bangladesh\n",
      "evaluating country Belarus\n",
      "evaluating country Belgium\n",
      "evaluating country Bhutan\n",
      "evaluating country Brazil\n",
      "evaluating country Bulgaria\n",
      "evaluating country Cambodia\n",
      "evaluating country Cameroon\n",
      "evaluating country Chile\n",
      "evaluating country China\n",
      "evaluating country Colombia\n",
      "evaluating country Cyprus\n",
      "evaluating country Denmark\n",
      "evaluating country El Salvador\n",
      "evaluating country Estonia\n",
      "evaluating country Ethiopia\n",
      "evaluating country Fiji\n",
      "evaluating country Finland\n",
      "evaluating country France\n",
      "evaluating country Georgia\n",
      "evaluating country Ghana\n",
      "evaluating country Grenada\n",
      "evaluating country Guinea\n",
      "evaluating country Haiti\n",
      "evaluating country Honduras\n",
      "evaluating country Hungary\n",
      "evaluating country India\n",
      "evaluating country Indonesia\n",
      "evaluating country Ireland\n",
      "evaluating country Italy\n",
      "evaluating country Japan\n",
      "evaluating country Kenya\n",
      "evaluating country South Korea\n",
      "evaluating country Liberia\n",
      "evaluating country Malaysia\n",
      "evaluating country Mexico\n",
      "evaluating country Morocco\n",
      "evaluating country Nepal\n",
      "evaluating country New Zealand\n",
      "evaluating country Norway\n",
      "evaluating country Pakistan\n",
      "evaluating country Peru\n",
      "evaluating country Qatar\n",
      "evaluating country Russia\n",
      "evaluating country Singapore\n",
      "evaluating country South Africa\n",
      "evaluating country Spain\n",
      "evaluating country Sweden\n",
      "evaluating country Switzerland\n",
      "evaluating country Thailand\n",
      "evaluating country United Arab Emirates\n",
      "evaluating country United Kingdom\n",
      "evaluating country United States\n",
      "evaluating country Uruguay\n",
      "evaluating country Venezuela\n",
      "evaluating country Vietnam\n",
      "evaluating country Zimbabwe\n"
     ]
    }
   ],
   "source": [
    "#Use a for loop to print the required output\n",
    "for country in countries:\n",
    "    print(\"evaluating country {}\".format(country))"
   ]
  },
  {
   "cell_type": "markdown",
   "metadata": {},
   "source": [
    "#### 5: Print out the entire list of the countries with their GDPs"
   ]
  },
  {
   "cell_type": "code",
   "execution_count": 17,
   "metadata": {},
   "outputs": [
    {
     "name": "stdout",
     "output_type": "stream",
     "text": [
      "Country Algeria and it's GDP 2255.225482\n",
      "Country Angola and it's GDP 629.9553062\n",
      "Country Argentina and it's GDP 11601.63022\n",
      "Country Australia and it's GDP 25306.82494\n",
      "Country Austria and it's GDP 27266.40335\n",
      "Country Bahamas and it's GDP 19466.99052\n",
      "Country Bangladesh and it's GDP 588.3691778\n",
      "Country Belarus and it's GDP 2890.345675\n",
      "Country Belgium and it's GDP 24733.62696\n",
      "Country Bhutan and it's GDP 1445.760002\n",
      "Country Brazil and it's GDP 4803.398244\n",
      "Country Bulgaria and it's GDP 2618.876037\n",
      "Country Cambodia and it's GDP 590.4521124\n",
      "Country Cameroon and it's GDP 665.7982328\n",
      "Country Chile and it's GDP 7122.938458\n",
      "Country China and it's GDP 2639.54156\n",
      "Country Colombia and it's GDP 3362.4656\n",
      "Country Cyprus and it's GDP 15378.16704\n",
      "Country Denmark and it's GDP 30860.12808\n",
      "Country El Salvador and it's GDP 2579.115607\n",
      "Country Estonia and it's GDP 6525.541272\n",
      "Country Ethiopia and it's GDP 229.6769525\n",
      "Country Fiji and it's GDP 2242.689259\n",
      "Country Finland and it's GDP 27570.4852\n",
      "Country France and it's GDP 23016.84778\n",
      "Country Georgia and it's GDP 1334.646773\n",
      "Country Ghana and it's GDP 402.6953275\n",
      "Country Grenada and it's GDP 6047.200797\n",
      "Country Guinea and it's GDP 394.1156638\n",
      "Country Haiti and it's GDP 385.5793827\n",
      "Country Honduras and it's GDP 1414.072488\n",
      "Country Hungary and it's GDP 5745.981529\n",
      "Country India and it's GDP 837.7464011\n",
      "Country Indonesia and it's GDP 1206.991065\n",
      "Country Ireland and it's GDP 27715.52837\n",
      "Country Italy and it's GDP 18937.24998\n",
      "Country Japan and it's GDP 39578.07441\n",
      "Country Kenya and it's GDP 478.2194906\n",
      "Country South Korea and it's GDP 16684.21278\n",
      "Country Liberia and it's GDP 279.2204061\n",
      "Country Malaysia and it's GDP 5345.213415\n",
      "Country Mexico and it's GDP 6288.25324\n",
      "Country Morocco and it's GDP 1908.304416\n",
      "Country Nepal and it's GDP 274.8728621\n",
      "Country New Zealand and it's GDP 14646.42094\n",
      "Country Norway and it's GDP 40034.85063\n",
      "Country Pakistan and it's GDP 672.1547506\n",
      "Country Peru and it's GDP 3359.517402\n",
      "Country Qatar and it's GDP 36152.66676\n",
      "Country Russia and it's GDP 3054.727742\n",
      "Country Singapore and it's GDP 33529.83052\n",
      "Country South Africa and it's GDP 3825.093781\n",
      "Country Spain and it's GDP 15428.32098\n",
      "Country Sweden and it's GDP 33630.24604\n",
      "Country Switzerland and it's GDP 39170.41371\n",
      "Country Thailand and it's GDP 2699.123242\n",
      "Country United Arab Emirates and it's GDP 21058.43643\n",
      "Country United Kingdom and it's GDP 28272.40661\n",
      "Country United States and it's GDP 37691.02733\n",
      "Country Uruguay and it's GDP 9581.05659\n",
      "Country Venezuela and it's GDP 5671.912202\n",
      "Country Vietnam and it's GDP 757.4009286\n",
      "Country Zimbabwe and it's GDP 347.7456605\n"
     ]
    }
   ],
   "source": [
    "#Use a for loop to print the required list\n",
    "for i in range(len(countries)):\n",
    "    country = countries[i]\n",
    "    gdp_of_country = gdp_per_capita[i]\n",
    "    print(\"Country {} and it's GDP {}\".format(country, gdp_of_country))"
   ]
  },
  {
   "cell_type": "markdown",
   "metadata": {},
   "source": [
    "#### 6: Print the following:\n",
    "1. Highest GPD value\n",
    "2. Lowest GDP value\n",
    "3. Mean GDP value\n",
    "4. Standardized GDP value\n",
    "5. Sum of all the GDPs"
   ]
  },
  {
   "cell_type": "code",
   "execution_count": 19,
   "metadata": {},
   "outputs": [
    {
     "name": "stdout",
     "output_type": "stream",
     "text": [
      "40034.85063\n",
      "229.6769525\n",
      "11289.409271639683\n",
      "12743.828910617945\n",
      "711232.7841133\n"
     ]
    }
   ],
   "source": [
    "print(gdp_per_capita.max())\n",
    "print(gdp_per_capita.min())\n",
    "print(gdp_per_capita.mean())\n",
    "print(gdp_per_capita.std())\n",
    "print(gdp_per_capita.sum())"
   ]
  },
  {
   "cell_type": "code",
   "execution_count": null,
   "metadata": {},
   "outputs": [],
   "source": []
  }
 ],
 "metadata": {
  "kernelspec": {
   "display_name": "Python 3",
   "language": "python",
   "name": "python3"
  },
  "language_info": {
   "codemirror_mode": {
    "name": "ipython",
    "version": 3
   },
   "file_extension": ".py",
   "mimetype": "text/x-python",
   "name": "python",
   "nbconvert_exporter": "python",
   "pygments_lexer": "ipython3",
   "version": "3.8.3"
  }
 },
 "nbformat": 4,
 "nbformat_minor": 1
}
