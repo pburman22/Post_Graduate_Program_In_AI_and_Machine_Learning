{
 "cells": [
  {
   "cell_type": "markdown",
   "id": "26592874",
   "metadata": {},
   "source": [
    "# Import Libraries"
   ]
  },
  {
   "cell_type": "code",
   "execution_count": 1,
   "id": "81e86dca",
   "metadata": {},
   "outputs": [],
   "source": [
    "import pandas as pd\n",
    "import numpy as np"
   ]
  },
  {
   "cell_type": "markdown",
   "id": "fce3f8f1",
   "metadata": {},
   "source": [
    "# Import Datasets"
   ]
  },
  {
   "cell_type": "code",
   "execution_count": 3,
   "id": "e2665589",
   "metadata": {},
   "outputs": [],
   "source": [
    "# training data\n",
    "train_raw = pd.read_csv('Dataset/Pre Processed Data/train_raw_encoded.csv')\n",
    "\n",
    "# testing data\n",
    "test_raw = pd.read_csv('Dataset/Pre Processed Data/test_raw_encoded.csv')"
   ]
  },
  {
   "cell_type": "code",
   "execution_count": null,
   "id": "ac49e30a",
   "metadata": {},
   "outputs": [],
   "source": []
  }
 ],
 "metadata": {
  "kernelspec": {
   "display_name": "Python 3 (ipykernel)",
   "language": "python",
   "name": "python3"
  },
  "language_info": {
   "codemirror_mode": {
    "name": "ipython",
    "version": 3
   },
   "file_extension": ".py",
   "mimetype": "text/x-python",
   "name": "python",
   "nbconvert_exporter": "python",
   "pygments_lexer": "ipython3",
   "version": "3.10.9"
  }
 },
 "nbformat": 4,
 "nbformat_minor": 5
}
